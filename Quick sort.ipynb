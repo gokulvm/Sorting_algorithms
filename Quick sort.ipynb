{
 "cells": [
  {
   "cell_type": "markdown",
   "metadata": {},
   "source": [
    "# Quick sort"
   ]
  },
  {
   "cell_type": "code",
   "execution_count": 1,
   "metadata": {},
   "outputs": [
    {
     "name": "stdout",
     "output_type": "stream",
     "text": [
      "[32, 46, 45, 40, 43, 4]\n"
     ]
    },
    {
     "data": {
      "text/plain": [
       "[4, 32, 40, 43, 45, 46]"
      ]
     },
     "execution_count": 1,
     "metadata": {},
     "output_type": "execute_result"
    }
   ],
   "source": [
    "def quick_sort(qus):\n",
    "    less = []\n",
    "    equal =[]\n",
    "    grater = []\n",
    "\n",
    "    if len(qus) > 1: #check the length of the list\n",
    "        pivot = qus[0]\n",
    "        for i in qus:\n",
    "            if i == pivot:\n",
    "                equal.append(i)\n",
    "\n",
    "            elif i > pivot:\n",
    "                grater.append(i)\n",
    "\n",
    "            elif i < pivot:\n",
    "                less.append(i)\n",
    "\n",
    "        return quick_sort(less) + equal + quick_sort(grater) #its recursion method\n",
    "    else:\n",
    "        return qus #if have only one array we need to return that value\n",
    "\n",
    "\n",
    "    \n",
    "    \n",
    "import numpy  \n",
    "qus = list(numpy.random.randint(0,50,6))\n",
    "print(qus)\n",
    "quick_sort(qus)"
   ]
  }
 ],
 "metadata": {
  "kernelspec": {
   "display_name": "Python 3",
   "language": "python",
   "name": "python3"
  },
  "language_info": {
   "codemirror_mode": {
    "name": "ipython",
    "version": 3
   },
   "file_extension": ".py",
   "mimetype": "text/x-python",
   "name": "python",
   "nbconvert_exporter": "python",
   "pygments_lexer": "ipython3",
   "version": "3.8.0"
  }
 },
 "nbformat": 4,
 "nbformat_minor": 4
}
