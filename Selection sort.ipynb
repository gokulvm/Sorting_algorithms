{
 "cells": [
  {
   "cell_type": "markdown",
   "metadata": {},
   "source": [
    "# Selection sort"
   ]
  },
  {
   "cell_type": "code",
   "execution_count": 16,
   "metadata": {},
   "outputs": [
    {
     "name": "stdout",
     "output_type": "stream",
     "text": [
      "[44, 8, 0, 17, 36, 6]\n"
     ]
    },
    {
     "data": {
      "text/plain": [
       "[0, 6, 8, 17, 36, 44]"
      ]
     },
     "execution_count": 16,
     "metadata": {},
     "output_type": "execute_result"
    }
   ],
   "source": [
    "def selection_sort(qus):\n",
    "    for i in range(len(qus) - 1):\n",
    "        m_val = i     #getting index for every value\n",
    "        for j in range(i+1, len(qus)):\n",
    "            if qus[j] < qus[m_val]:  #compare the values \n",
    "                m_val = j\n",
    "\n",
    "        if qus[i] != qus[m_val]:   #if minimum value is not equal swap the values\n",
    "            qus[i], qus[m_val] = qus[m_val], qus[i]  \n",
    "\n",
    "    return qus\n",
    "\n",
    "\n",
    "import numpy\n",
    "qus = list(numpy.random.randint(0,50,6))\n",
    "print(qus)\n",
    "selection_sort(qus)"
   ]
  },
  {
   "cell_type": "markdown",
   "metadata": {},
   "source": [
    "## Selection sort using min() function"
   ]
  },
  {
   "cell_type": "code",
   "execution_count": 17,
   "metadata": {},
   "outputs": [
    {
     "name": "stdout",
     "output_type": "stream",
     "text": [
      "[13, 18, 16, 32, 41, 4]\n"
     ]
    },
    {
     "data": {
      "text/plain": [
       "[4, 13, 16, 18, 32, 41]"
      ]
     },
     "execution_count": 17,
     "metadata": {},
     "output_type": "execute_result"
    }
   ],
   "source": [
    "def selection_sort_using_min_function(qus):\n",
    "    for i in range(len(qus) - 1):\n",
    "        m_val = min(qus[i:])\n",
    "        m_ind = qus.index(m_val,i) #this i is used to generate the starting position of the index searching\n",
    "        if qus[i] != qus[m_ind]:\n",
    "            qus[i], qus[m_ind] = qus[m_ind], qus[i]\n",
    "    return qus\n",
    "\n",
    "\n",
    "import numpy\n",
    "qus = list(numpy.random.randint(0,50,6))\n",
    "print(qus)\n",
    "selection_sort_using_min_function(qus)"
   ]
  }
 ],
 "metadata": {
  "kernelspec": {
   "display_name": "Python 3",
   "language": "python",
   "name": "python3"
  },
  "language_info": {
   "codemirror_mode": {
    "name": "ipython",
    "version": 3
   },
   "file_extension": ".py",
   "mimetype": "text/x-python",
   "name": "python",
   "nbconvert_exporter": "python",
   "pygments_lexer": "ipython3",
   "version": "3.8.0"
  }
 },
 "nbformat": 4,
 "nbformat_minor": 4
}
