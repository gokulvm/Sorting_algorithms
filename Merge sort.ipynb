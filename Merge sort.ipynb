{
 "cells": [
  {
   "cell_type": "markdown",
   "metadata": {},
   "source": [
    "# Merge sort"
   ]
  },
  {
   "cell_type": "code",
   "execution_count": 9,
   "metadata": {},
   "outputs": [
    {
     "name": "stdout",
     "output_type": "stream",
     "text": [
      "[14, 13, 3, 8, 30, 45]\n"
     ]
    },
    {
     "data": {
      "text/plain": [
       "[3, 8, 13, 14, 30, 45]"
      ]
     },
     "execution_count": 9,
     "metadata": {},
     "output_type": "execute_result"
    }
   ],
   "source": [
    "def merge_sort(qus):\n",
    "    if len(qus) > 1:\n",
    "        mid = len(qus)//2\n",
    "        left = qus[:mid]\n",
    "        right = qus[mid:]\n",
    "        merge_sort(left)  #recursive function\n",
    "        merge_sort(right)\n",
    "        i=0\n",
    "        j=0\n",
    "        k=0\n",
    "        while i < len(left) and j< len(right): #conditions for merge sort\n",
    "            if left[i] < right[j]:\n",
    "                qus[k] = left[i]\n",
    "                k +=1\n",
    "                i += 1\n",
    "\n",
    "            else:\n",
    "                qus[k] = right[j]\n",
    "                k += 1\n",
    "                j += 1\n",
    "\n",
    "        while i < len(left):   \n",
    "            qus[k] = left[i]\n",
    "            i +=1\n",
    "            k +=1\n",
    "\n",
    "        while j < len(right):\n",
    "            qus[k] = right[j]\n",
    "            j +=1\n",
    "            k +=1\n",
    "\n",
    "    return qus\n",
    "\n",
    "\n",
    "\n",
    "import numpy  \n",
    "qus = list(numpy.random.randint(0,50,6))\n",
    "print(qus)\n",
    "merge_sort(qus)"
   ]
  }
 ],
 "metadata": {
  "kernelspec": {
   "display_name": "Python 3",
   "language": "python",
   "name": "python3"
  },
  "language_info": {
   "codemirror_mode": {
    "name": "ipython",
    "version": 3
   },
   "file_extension": ".py",
   "mimetype": "text/x-python",
   "name": "python",
   "nbconvert_exporter": "python",
   "pygments_lexer": "ipython3",
   "version": "3.8.0"
  }
 },
 "nbformat": 4,
 "nbformat_minor": 4
}
