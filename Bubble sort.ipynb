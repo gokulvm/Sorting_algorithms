{
 "cells": [
  {
   "cell_type": "markdown",
   "metadata": {},
   "source": [
    "# Bubble sort"
   ]
  },
  {
   "cell_type": "code",
   "execution_count": 2,
   "metadata": {},
   "outputs": [
    {
     "name": "stdout",
     "output_type": "stream",
     "text": [
      "[36, 5, 48, 32, 27, 5]\n",
      "[5, 36, 48, 32, 27, 5]\n",
      "[5, 36, 48, 32, 27, 5]\n",
      "[5, 36, 32, 48, 27, 5]\n",
      "[5, 36, 32, 27, 48, 5]\n",
      "[5, 36, 32, 27, 5, 48]\n",
      "\n",
      "[5, 36, 32, 27, 5, 48]\n",
      "[5, 32, 36, 27, 5, 48]\n",
      "[5, 32, 27, 36, 5, 48]\n",
      "[5, 32, 27, 5, 36, 48]\n",
      "\n",
      "[5, 32, 27, 5, 36, 48]\n",
      "[5, 27, 32, 5, 36, 48]\n",
      "[5, 27, 5, 32, 36, 48]\n",
      "\n",
      "[5, 27, 5, 32, 36, 48]\n",
      "[5, 5, 27, 32, 36, 48]\n",
      "\n",
      "[5, 5, 27, 32, 36, 48]\n",
      "\n"
     ]
    }
   ],
   "source": [
    "def bubble_sort(qus):\n",
    "    for i in range(len(qus)-1,0,-1):\n",
    "        for j in range(i):\n",
    "            if qus[j]>qus[j+1]:\n",
    "                qus[j], qus[j+1] = qus[j+1], qus[j]\n",
    "                print(qus)\n",
    "\n",
    "            else:\n",
    "                print(qus)\n",
    "        print()\n",
    "\n",
    "import numpy  \n",
    "qus = list(numpy.random.randint(0,50,6))\n",
    "print(qus)\n",
    "bubble_sort(qus)"
   ]
  }
 ],
 "metadata": {
  "kernelspec": {
   "display_name": "Python 3",
   "language": "python",
   "name": "python3"
  },
  "language_info": {
   "codemirror_mode": {
    "name": "ipython",
    "version": 3
   },
   "file_extension": ".py",
   "mimetype": "text/x-python",
   "name": "python",
   "nbconvert_exporter": "python",
   "pygments_lexer": "ipython3",
   "version": "3.8.0"
  }
 },
 "nbformat": 4,
 "nbformat_minor": 4
}
