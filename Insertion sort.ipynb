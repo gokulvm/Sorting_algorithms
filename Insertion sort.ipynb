{
 "cells": [
  {
   "cell_type": "markdown",
   "metadata": {},
   "source": [
    "# Insertion sort"
   ]
  },
  {
   "cell_type": "code",
   "execution_count": 3,
   "metadata": {},
   "outputs": [
    {
     "name": "stdout",
     "output_type": "stream",
     "text": [
      "[41, 39, 24, 13, 31, 46]\n"
     ]
    },
    {
     "data": {
      "text/plain": [
       "[13, 24, 31, 39, 41, 46]"
      ]
     },
     "execution_count": 3,
     "metadata": {},
     "output_type": "execute_result"
    }
   ],
   "source": [
    "def insertion_sort(qus):\n",
    "    for i in range(1,len(qus)):\n",
    "        current_element = qus[i]\n",
    "        pos = i\n",
    "\n",
    "        while current_element < qus[pos-1] and pos > 0:\n",
    "            qus[pos],qus[pos-1] = qus[pos-1],qus[pos]\n",
    "            pos -= 1\n",
    "        qus[pos] = current_element\n",
    "        \n",
    "    return qus\n",
    "        \n",
    "import numpy  \n",
    "qus = list(numpy.random.randint(0,50,6))\n",
    "print(qus)\n",
    "insertion_sort(qus)"
   ]
  }
 ],
 "metadata": {
  "kernelspec": {
   "display_name": "Python 3",
   "language": "python",
   "name": "python3"
  },
  "language_info": {
   "codemirror_mode": {
    "name": "ipython",
    "version": 3
   },
   "file_extension": ".py",
   "mimetype": "text/x-python",
   "name": "python",
   "nbconvert_exporter": "python",
   "pygments_lexer": "ipython3",
   "version": "3.8.0"
  }
 },
 "nbformat": 4,
 "nbformat_minor": 4
}
